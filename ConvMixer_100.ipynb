{
 "cells": [
  {
   "cell_type": "markdown",
   "id": "fbabb262",
   "metadata": {},
   "source": [
    "**Authored by Team 4**<br>\n",
    "**Last Modified:** Aug, 11, 2022 <br>\n",
    "**Description:** Implementing the Convolution model for image classification. <br>\n",
    "**DataSet:** Cifar100"
   ]
  },
  {
   "cell_type": "markdown",
   "id": "7ac7083c",
   "metadata": {},
   "source": [
    "# Setup"
   ]
  },
  {
   "cell_type": "code",
   "execution_count": 1,
   "id": "0766395e",
   "metadata": {},
   "outputs": [],
   "source": [
    "from tensorflow.keras import layers\n",
    "from tensorflow import keras\n",
    "\n",
    "import matplotlib.pyplot as plt\n",
    "import tensorflow_addons as tfa\n",
    "import tensorflow as tf\n",
    "import numpy as np"
   ]
  },
  {
   "cell_type": "markdown",
   "id": "d9e91012",
   "metadata": {},
   "source": [
    "## Prepare the data"
   ]
  },
  {
   "cell_type": "code",
   "execution_count": 2,
   "id": "a04e028d",
   "metadata": {},
   "outputs": [
    {
     "name": "stdout",
     "output_type": "stream",
     "text": [
      "Training data: 45000\n",
      "Validation data: 5000\n",
      "Test data: 10000\n"
     ]
    }
   ],
   "source": [
    "(x_train, y_train), (x_test, y_test) = keras.datasets.cifar100.load_data()\n",
    "val_split = 0.1\n",
    "val_indices = int(len(x_train) * val_split)\n",
    "x_val, y_val = x_train[:val_indices], y_train[:val_indices]\n",
    "x_train, y_train = x_train[val_indices:], y_train[val_indices:]\n",
    "\n",
    "print(f\"Training data: {len(x_train)}\")\n",
    "print(f\"Validation data: {len(x_val)}\")\n",
    "print(f\"Test data: {len(x_test)}\")"
   ]
  },
  {
   "cell_type": "markdown",
   "id": "668e4fd2",
   "metadata": {},
   "source": [
    "## Configure the hyperparameters"
   ]
  },
  {
   "cell_type": "code",
   "execution_count": 3,
   "id": "377a2eaf",
   "metadata": {},
   "outputs": [],
   "source": [
    "learning_rate = 0.001\n",
    "weight_decay = 0.0001\n",
    "batch_size = 128\n",
    "num_epochs = 100\n",
    "image_size = 32"
   ]
  },
  {
   "cell_type": "markdown",
   "id": "45a97fd9",
   "metadata": {},
   "source": [
    "# Prepare Dataset objects"
   ]
  },
  {
   "cell_type": "code",
   "execution_count": 4,
   "id": "d68ece37",
   "metadata": {},
   "outputs": [],
   "source": [
    "auto = tf.data.AUTOTUNE\n",
    "data_augmentation = keras.Sequential(\n",
    "    [\n",
    "        layers.Normalization(),\n",
    "        layers.RandomCrop(image_size, image_size),\n",
    "        layers.RandomFlip(\"horizontal\"),\n",
    "        layers.RandomRotation(factor=0.02),\n",
    "    ],\n",
    "    name=\"data_augmentation\",\n",
    ")\n",
    "\n",
    "def data_prep(images, labels, is_train=False):\n",
    "    \n",
    "    dataset = tf.data.Dataset.from_tensor_slices((images, labels))\n",
    "    \n",
    "    if is_train:\n",
    "        dataset = dataset.shuffle(batch_size * 10)\n",
    "    dataset = dataset.batch(batch_size)\n",
    "    if is_train:\n",
    "        dataset = dataset.map(lambda x, y: (data_augmentation(x), y), num_parallel_calls=auto)\n",
    "    return dataset.prefetch(auto)\n",
    "\n",
    "training_data = data_prep(x_train, y_train, is_train=True)\n",
    "vd_data = data_prep(x_val, y_val, is_train=False)\n",
    "ts_data = data_prep(x_test, y_test, is_train=False)"
   ]
  },
  {
   "cell_type": "markdown",
   "id": "5893e233",
   "metadata": {},
   "source": [
    "# Construct the ConvMixer Model"
   ]
  },
  {
   "cell_type": "code",
   "execution_count": 5,
   "id": "f3e50a5e",
   "metadata": {},
   "outputs": [],
   "source": [
    "# model parameters\n",
    "patch_size = 2\n",
    "class_num = 100\n",
    "depth = 8\n",
    "filter_num = 256\n",
    "kernel_size = 10"
   ]
  },
  {
   "cell_type": "code",
   "execution_count": 6,
   "id": "1be55a9b",
   "metadata": {},
   "outputs": [],
   "source": [
    "def convMixer_Model():\n",
    "    # Rescale the input image\n",
    "    inputs = keras.Input((image_size, image_size, 3))\n",
    "    rescaled = layers.Rescaling(scale=1.0 / 255)(inputs)\n",
    "    \n",
    "    # Patch Embedding\n",
    "    patch_embed = layers.Conv2D(filter_num, kernel_size=patch_size, strides=patch_size)(rescaled)\n",
    "    # Gelu\n",
    "    gelu_out = layers.Activation(\"gelu\")(patch_embed)\n",
    "    # BatchNorm\n",
    "    bn_out = layers.BatchNormalization()(gelu_out)\n",
    "\n",
    "    # ConvMixer blocks with depth iterations\n",
    "    for _ in range(depth):\n",
    "        # Depthwise convolution\n",
    "        temp = bn_out\n",
    "        dw_conv = layers.DepthwiseConv2D(kernel_size=kernel_size, padding=\"same\")(bn_out)\n",
    "        # Gelu\n",
    "        gelu_out = layers.Activation(\"gelu\")(dw_conv)\n",
    "        # BatchNorm\n",
    "        bn_out = layers.BatchNormalization()(gelu_out)\n",
    "        # layer addition\n",
    "        layer_add = layers.Add()([bn_out, temp])\n",
    "\n",
    "        # Pointwise convolution\n",
    "        pw_conv = layers.Conv2D(filter_num, kernel_size=1)(layer_add)\n",
    "        # Gelu\n",
    "        gelu_out = layers.Activation(\"gelu\")(pw_conv)\n",
    "        # BatchNorm\n",
    "        bn_out = layers.BatchNormalization()(gelu_out)\n",
    "\n",
    "    # Classification\n",
    "    globalAvgPool_out = layers.GlobalAvgPool2D()(bn_out)\n",
    "    do = tf.nn.dropout(globalAvgPool_out, 0.3)\n",
    "    outputs = layers.Dense(class_num, activation=\"softmax\")(do)\n",
    "\n",
    "    return keras.Model(inputs, outputs)"
   ]
  },
  {
   "cell_type": "markdown",
   "id": "0954a183",
   "metadata": {},
   "source": [
    "# Compile, train, and evaluate the mode"
   ]
  },
  {
   "cell_type": "code",
   "execution_count": 7,
   "id": "29e3df4e",
   "metadata": {},
   "outputs": [],
   "source": [
    "def run_experiment(model):\n",
    "    optimizer = tfa.optimizers.AdamW(\n",
    "        learning_rate=learning_rate, weight_decay=weight_decay\n",
    "    )\n",
    "\n",
    "    model.compile(\n",
    "        optimizer=optimizer,\n",
    "        loss=\"sparse_categorical_crossentropy\",\n",
    "        metrics=[\"accuracy\"],\n",
    "    )\n",
    "\n",
    "    checkpoint_filepath = \"/tmp/checkpoint\"\n",
    "    checkpoint_callback = keras.callbacks.ModelCheckpoint(\n",
    "        checkpoint_filepath,\n",
    "        monitor=\"val_accuracy\",\n",
    "        save_best_only=True,\n",
    "        save_weights_only=True,\n",
    "    )\n",
    "\n",
    "    history = model.fit(\n",
    "        # x=x_train,\n",
    "        # y=y_train,\n",
    "        # batch_size=batch_size,\n",
    "        # validation_split=0.1,\n",
    "        training_data,\n",
    "        validation_data=vd_data,\n",
    "        epochs=num_epochs,\n",
    "        callbacks=[checkpoint_callback],\n",
    "    )\n",
    "\n",
    "    model.load_weights(checkpoint_filepath)\n",
    "    _, accuracy = model.evaluate(ts_data)\n",
    "    print(f\"Test accuracy: {round(accuracy * 100, 2)}%\")\n",
    "    # print(f\"Test top 5 accuracy: {round(top_5_accuracy * 100, 2)}%\")\n",
    "\n",
    "    return history, model"
   ]
  },
  {
   "cell_type": "code",
   "execution_count": null,
   "id": "2248d1d0",
   "metadata": {},
   "outputs": [
    {
     "name": "stdout",
     "output_type": "stream",
     "text": [
      "Epoch 1/100\n",
      "352/352 [==============================] - 85s 231ms/step - loss: 3.8336 - accuracy: 0.1200 - val_loss: 4.8710 - val_accuracy: 0.0204\n",
      "Epoch 2/100\n",
      "352/352 [==============================] - 81s 231ms/step - loss: 3.1845 - accuracy: 0.2226 - val_loss: 3.1111 - val_accuracy: 0.2428\n",
      "Epoch 3/100\n",
      "352/352 [==============================] - 81s 231ms/step - loss: 2.7830 - accuracy: 0.2978 - val_loss: 2.8169 - val_accuracy: 0.2986\n",
      "Epoch 4/100\n",
      "352/352 [==============================] - 81s 231ms/step - loss: 2.4722 - accuracy: 0.3610 - val_loss: 2.6188 - val_accuracy: 0.3426\n",
      "Epoch 5/100\n",
      "352/352 [==============================] - 81s 230ms/step - loss: 2.2093 - accuracy: 0.4189 - val_loss: 2.3988 - val_accuracy: 0.3822\n",
      "Epoch 6/100\n",
      "352/352 [==============================] - 81s 229ms/step - loss: 1.9877 - accuracy: 0.4655 - val_loss: 2.2882 - val_accuracy: 0.3978\n",
      "Epoch 7/100\n",
      "352/352 [==============================] - 81s 230ms/step - loss: 1.8084 - accuracy: 0.5044 - val_loss: 2.1898 - val_accuracy: 0.4232\n",
      "Epoch 8/100\n",
      "352/352 [==============================] - 81s 229ms/step - loss: 1.6646 - accuracy: 0.5408 - val_loss: 2.1509 - val_accuracy: 0.4404\n",
      "Epoch 9/100\n",
      "352/352 [==============================] - 81s 229ms/step - loss: 1.5239 - accuracy: 0.5723 - val_loss: 2.1525 - val_accuracy: 0.4432\n",
      "Epoch 10/100\n",
      "352/352 [==============================] - 81s 230ms/step - loss: 1.4172 - accuracy: 0.5964 - val_loss: 2.0685 - val_accuracy: 0.4562\n",
      "Epoch 11/100\n",
      "352/352 [==============================] - 81s 230ms/step - loss: 1.3113 - accuracy: 0.6244 - val_loss: 2.1518 - val_accuracy: 0.4508\n",
      "Epoch 12/100\n",
      "352/352 [==============================] - 81s 230ms/step - loss: 1.2158 - accuracy: 0.6480 - val_loss: 2.0941 - val_accuracy: 0.4680\n",
      "Epoch 13/100\n",
      "352/352 [==============================] - 81s 230ms/step - loss: 1.1284 - accuracy: 0.6688 - val_loss: 2.1352 - val_accuracy: 0.4586\n",
      "Epoch 14/100\n",
      "352/352 [==============================] - 81s 230ms/step - loss: 1.0525 - accuracy: 0.6890 - val_loss: 2.1394 - val_accuracy: 0.4718\n",
      "Epoch 15/100\n",
      "352/352 [==============================] - 81s 230ms/step - loss: 0.9939 - accuracy: 0.7065 - val_loss: 2.1407 - val_accuracy: 0.4716\n",
      "Epoch 16/100\n",
      "352/352 [==============================] - 81s 230ms/step - loss: 0.9255 - accuracy: 0.7227 - val_loss: 2.1400 - val_accuracy: 0.4732\n",
      "Epoch 17/100\n",
      "352/352 [==============================] - 81s 230ms/step - loss: 0.8680 - accuracy: 0.7387 - val_loss: 2.2069 - val_accuracy: 0.4694\n",
      "Epoch 18/100\n",
      " 15/352 [>.............................] - ETA: 1:15 - loss: 0.8599 - accuracy: 0.7490"
     ]
    }
   ],
   "source": [
    "cm_model = convMixer_Model()\n",
    "history, conv_mixer_model = run_experiment(cm_model)"
   ]
  },
  {
   "cell_type": "markdown",
   "id": "8f1f6c96",
   "metadata": {},
   "source": [
    "# Plot the model"
   ]
  },
  {
   "cell_type": "code",
   "execution_count": null,
   "id": "beb6dfee",
   "metadata": {},
   "outputs": [],
   "source": [
    "plt.plot(history.history['accuracy'], label='accuracy')\n",
    "plt.plot(history.history['val_accuracy'], label = 'validation accuracy')\n",
    "plt.xlabel('Epoch')\n",
    "plt.ylabel('Accuracy')\n",
    "plt.ylim([0.01, 1])\n",
    "plt.legend(loc='lower right')\n",
    "plt.show()"
   ]
  }
 ],
 "metadata": {
  "kernelspec": {
   "display_name": "Python 3",
   "language": "python",
   "name": "python3"
  },
  "language_info": {
   "codemirror_mode": {
    "name": "ipython",
    "version": 3
   },
   "file_extension": ".py",
   "mimetype": "text/x-python",
   "name": "python",
   "nbconvert_exporter": "python",
   "pygments_lexer": "ipython3",
   "version": "3.8.10"
  }
 },
 "nbformat": 4,
 "nbformat_minor": 5
}
