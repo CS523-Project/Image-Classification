{
 "cells": [
  {
   "cell_type": "markdown",
   "id": "5c383c03",
   "metadata": {},
   "source": [
    "# Image Classification with ConvMixer"
   ]
  },
  {
   "cell_type": "markdown",
   "id": "d593c20d",
   "metadata": {},
   "source": [
    "Author: Team 4\n",
    "Last Modified: Aug, 8, 2022\n",
    "Replace the whole ViT MLP structure with ConvMixer manually"
   ]
  },
  {
   "cell_type": "markdown",
   "id": "7ac7083c",
   "metadata": {},
   "source": [
    "# Setup"
   ]
  },
  {
   "cell_type": "code",
   "execution_count": 1,
   "id": "0766395e",
   "metadata": {},
   "outputs": [],
   "source": [
    "from tensorflow.keras import layers\n",
    "from tensorflow import keras\n",
    "\n",
    "import matplotlib.pyplot as plt\n",
    "import tensorflow_addons as tfa\n",
    "import tensorflow as tf\n",
    "import numpy as np"
   ]
  },
  {
   "cell_type": "markdown",
   "id": "d9e91012",
   "metadata": {},
   "source": [
    "## Prepare the data"
   ]
  },
  {
   "cell_type": "code",
   "execution_count": 2,
   "id": "a04e028d",
   "metadata": {},
   "outputs": [
    {
     "name": "stdout",
     "output_type": "stream",
     "text": [
      "Training data: 45000\n",
      "Validation data: 5000\n",
      "Test data: 10000\n"
     ]
    }
   ],
   "source": [
    "(x_train, y_train), (x_test, y_test) = keras.datasets.cifar10.load_data()\n",
    "val_split = 0.1\n",
    "val_indices = int(len(x_train) * val_split)\n",
    "x_val, y_val = x_train[:val_indices], y_train[:val_indices]\n",
    "x_train, y_train = x_train[val_indices:], y_train[val_indices:]\n",
    "\n",
    "print(f\"Training data: {len(x_train)}\")\n",
    "print(f\"Validation data: {len(x_val)}\")\n",
    "print(f\"Test data: {len(x_test)}\")"
   ]
  },
  {
   "cell_type": "markdown",
   "id": "668e4fd2",
   "metadata": {},
   "source": [
    "## Configure the hyperparameters"
   ]
  },
  {
   "cell_type": "code",
   "execution_count": 3,
   "id": "377a2eaf",
   "metadata": {},
   "outputs": [],
   "source": [
    "learning_rate = 0.001\n",
    "weight_decay = 0.0001\n",
    "batch_size = 128\n",
    "num_epochs = 20\n",
    "image_size = 32"
   ]
  },
  {
   "cell_type": "markdown",
   "id": "45a97fd9",
   "metadata": {},
   "source": [
    "# Prepare Dataset objects"
   ]
  },
  {
   "cell_type": "code",
   "execution_count": 4,
   "id": "d68ece37",
   "metadata": {},
   "outputs": [],
   "source": [
    "auto = tf.data.AUTOTUNE\n",
    "data_augmentation = keras.Sequential(\n",
    "    [layers.RandomCrop(image_size, image_size), layers.RandomFlip(\"horizontal\"),],\n",
    "    name=\"data_augmentation\",\n",
    ")\n",
    "\n",
    "\n",
    "def make_datasets(images, labels, is_train=False):\n",
    "    dataset = tf.data.Dataset.from_tensor_slices((images, labels))\n",
    "    if is_train:\n",
    "        dataset = dataset.shuffle(batch_size * 10)\n",
    "    dataset = dataset.batch(batch_size)\n",
    "    if is_train:\n",
    "        dataset = dataset.map(\n",
    "            lambda x, y: (data_augmentation(x), y), num_parallel_calls=auto\n",
    "        )\n",
    "    return dataset.prefetch(auto)\n",
    "\n",
    "train_dataset = make_datasets(x_train, y_train, is_train=True)\n",
    "val_dataset = make_datasets(x_val, y_val)\n",
    "test_dataset = make_datasets(x_test, y_test)"
   ]
  },
  {
   "cell_type": "markdown",
   "id": "5893e233",
   "metadata": {},
   "source": [
    "# Construct the ConvMixer Model"
   ]
  },
  {
   "cell_type": "code",
   "execution_count": 5,
   "id": "f3e50a5e",
   "metadata": {},
   "outputs": [],
   "source": [
    "# model parameters\n",
    "patch_size = 2\n",
    "class_num = 10\n",
    "depth = 8\n",
    "filter_num = 256\n",
    "kernel_size = 10"
   ]
  },
  {
   "cell_type": "code",
   "execution_count": 6,
   "id": "1be55a9b",
   "metadata": {},
   "outputs": [],
   "source": [
    "def convMixer_Model():\n",
    "    # Rescale the input image\n",
    "    inputs = keras.Input((image_size, image_size, 3))\n",
    "    rescaled = layers.Rescaling(scale=1.0 / 255)(inputs)\n",
    "    \n",
    "    # Patch Embedding\n",
    "    patch_embed = layers.Conv2D(filter_num, kernel_size=patch_size, strides=patch_size)(rescaled)\n",
    "    # Gelu\n",
    "    gelu_out = layers.Activation(\"gelu\")(patch_embed)\n",
    "    # BatchNorm\n",
    "    bn_out = layers.BatchNormalization()(gelu_out)\n",
    "\n",
    "    # ConvMixer blocks with depth iterations\n",
    "    for _ in range(depth):\n",
    "        # Depthwise convolution\n",
    "        temp = bn_out\n",
    "        dw_conv = layers.DepthwiseConv2D(kernel_size=kernel_size, padding=\"same\")(bn_out)\n",
    "        # Gelu\n",
    "        gelu_out = layers.Activation(\"gelu\")(dw_conv)\n",
    "        # BatchNorm\n",
    "        bn_out = layers.BatchNormalization()(gelu_out)\n",
    "        # layer addition\n",
    "        layer_add = layers.Add()([bn_out, temp])\n",
    "\n",
    "        # Pointwise convolution\n",
    "        pw_conv = layers.Conv2D(filter_num, kernel_size=1)(layer_add)\n",
    "        # Gelu\n",
    "        gelu_out = layers.Activation(\"gelu\")(pw_conv)\n",
    "        # BatchNorm\n",
    "        bn_out = layers.BatchNormalization()(gelu_out)\n",
    "\n",
    "    # Classification\n",
    "    globalAvgPool_out = layers.GlobalAvgPool2D()(bn_out)\n",
    "    do = tf.nn.dropout(globalAvgPool_out, 0.3)\n",
    "    outputs = layers.Dense(class_num, activation=\"softmax\")(do)\n",
    "\n",
    "    return keras.Model(inputs, outputs)"
   ]
  },
  {
   "cell_type": "markdown",
   "id": "0954a183",
   "metadata": {},
   "source": [
    "# Compile, train, and evaluate the mode"
   ]
  },
  {
   "cell_type": "code",
   "execution_count": 7,
   "id": "29e3df4e",
   "metadata": {},
   "outputs": [],
   "source": [
    "def run_experiment(model):\n",
    "    optimizer = tfa.optimizers.AdamW(\n",
    "        learning_rate=learning_rate, weight_decay=weight_decay\n",
    "    )\n",
    "\n",
    "    model.compile(\n",
    "        optimizer=optimizer,\n",
    "        loss=\"sparse_categorical_crossentropy\",\n",
    "        metrics=[\"accuracy\"],\n",
    "    )\n",
    "\n",
    "    checkpoint_filepath = \"/tmp/checkpoint\"\n",
    "    checkpoint_callback = keras.callbacks.ModelCheckpoint(\n",
    "        checkpoint_filepath,\n",
    "        monitor=\"val_accuracy\",\n",
    "        save_best_only=True,\n",
    "        save_weights_only=True,\n",
    "    )\n",
    "\n",
    "    history = model.fit(\n",
    "        train_dataset,\n",
    "        validation_data=val_dataset,\n",
    "        epochs=num_epochs,\n",
    "        callbacks=[checkpoint_callback],\n",
    "    )\n",
    "\n",
    "    model.load_weights(checkpoint_filepath)\n",
    "    _, accuracy = model.evaluate(test_dataset)\n",
    "    print(f\"Test accuracy: {round(accuracy * 100, 2)}%\")\n",
    "\n",
    "    return history, model"
   ]
  },
  {
   "cell_type": "code",
   "execution_count": 8,
   "id": "2248d1d0",
   "metadata": {},
   "outputs": [
    {
     "name": "stdout",
     "output_type": "stream",
     "text": [
      "Epoch 1/20\n",
      "352/352 [==============================] - 66s 176ms/step - loss: 1.4712 - accuracy: 0.4685 - val_loss: 2.9218 - val_accuracy: 0.1470\n",
      "Epoch 2/20\n",
      "352/352 [==============================] - 61s 174ms/step - loss: 0.9918 - accuracy: 0.6505 - val_loss: 0.9662 - val_accuracy: 0.6640\n",
      "Epoch 3/20\n",
      "352/352 [==============================] - 61s 175ms/step - loss: 0.7777 - accuracy: 0.7290 - val_loss: 0.7532 - val_accuracy: 0.7416\n",
      "Epoch 4/20\n",
      "352/352 [==============================] - 61s 174ms/step - loss: 0.6475 - accuracy: 0.7759 - val_loss: 0.7375 - val_accuracy: 0.7428\n",
      "Epoch 5/20\n",
      "352/352 [==============================] - 62s 175ms/step - loss: 0.5529 - accuracy: 0.8078 - val_loss: 0.6474 - val_accuracy: 0.7718\n",
      "Epoch 6/20\n",
      "352/352 [==============================] - 61s 174ms/step - loss: 0.4763 - accuracy: 0.8360 - val_loss: 0.5956 - val_accuracy: 0.7910\n",
      "Epoch 7/20\n",
      "352/352 [==============================] - 61s 174ms/step - loss: 0.4141 - accuracy: 0.8560 - val_loss: 0.6350 - val_accuracy: 0.7856\n",
      "Epoch 8/20\n",
      "352/352 [==============================] - 61s 174ms/step - loss: 0.3694 - accuracy: 0.8718 - val_loss: 0.6208 - val_accuracy: 0.8002\n",
      "Epoch 9/20\n",
      "352/352 [==============================] - 61s 174ms/step - loss: 0.3275 - accuracy: 0.8862 - val_loss: 0.6393 - val_accuracy: 0.7998\n",
      "Epoch 10/20\n",
      "352/352 [==============================] - 61s 174ms/step - loss: 0.2914 - accuracy: 0.8975 - val_loss: 0.6187 - val_accuracy: 0.8076\n",
      "Epoch 11/20\n",
      "352/352 [==============================] - 61s 174ms/step - loss: 0.2658 - accuracy: 0.9064 - val_loss: 0.6352 - val_accuracy: 0.8028\n",
      "Epoch 12/20\n",
      "352/352 [==============================] - 61s 174ms/step - loss: 0.2383 - accuracy: 0.9161 - val_loss: 0.6074 - val_accuracy: 0.8128\n",
      "Epoch 13/20\n",
      "352/352 [==============================] - 61s 174ms/step - loss: 0.2187 - accuracy: 0.9232 - val_loss: 0.5823 - val_accuracy: 0.8250\n",
      "Epoch 14/20\n",
      "352/352 [==============================] - 61s 174ms/step - loss: 0.2041 - accuracy: 0.9289 - val_loss: 0.6711 - val_accuracy: 0.8100\n",
      "Epoch 15/20\n",
      "352/352 [==============================] - 61s 174ms/step - loss: 0.1898 - accuracy: 0.9337 - val_loss: 0.6411 - val_accuracy: 0.8200\n",
      "Epoch 16/20\n",
      "352/352 [==============================] - 61s 174ms/step - loss: 0.1730 - accuracy: 0.9383 - val_loss: 0.6062 - val_accuracy: 0.8258\n",
      "Epoch 17/20\n",
      "352/352 [==============================] - 61s 174ms/step - loss: 0.1662 - accuracy: 0.9422 - val_loss: 0.6949 - val_accuracy: 0.8108\n",
      "Epoch 18/20\n",
      "352/352 [==============================] - 61s 174ms/step - loss: 0.1548 - accuracy: 0.9470 - val_loss: 0.6617 - val_accuracy: 0.8202\n",
      "Epoch 19/20\n",
      "352/352 [==============================] - 61s 174ms/step - loss: 0.1431 - accuracy: 0.9504 - val_loss: 0.6856 - val_accuracy: 0.8172\n",
      "Epoch 20/20\n",
      "352/352 [==============================] - 61s 174ms/step - loss: 0.1439 - accuracy: 0.9502 - val_loss: 0.6472 - val_accuracy: 0.8244\n",
      "79/79 [==============================] - 2s 21ms/step - loss: 0.6571 - accuracy: 0.8142\n",
      "Test accuracy: 81.42%\n"
     ]
    }
   ],
   "source": [
    "cm_model = convMixer_Model()\n",
    "history, conv_mixer_model = run_experiment(cm_model)"
   ]
  },
  {
   "cell_type": "code",
   "execution_count": null,
   "id": "b06702e3",
   "metadata": {},
   "outputs": [],
   "source": []
  }
 ],
 "metadata": {
  "kernelspec": {
   "display_name": "Python 3 (ipykernel)",
   "language": "python",
   "name": "python3"
  },
  "language_info": {
   "codemirror_mode": {
    "name": "ipython",
    "version": 3
   },
   "file_extension": ".py",
   "mimetype": "text/x-python",
   "name": "python",
   "nbconvert_exporter": "python",
   "pygments_lexer": "ipython3",
   "version": "3.7.3"
  }
 },
 "nbformat": 4,
 "nbformat_minor": 5
}
