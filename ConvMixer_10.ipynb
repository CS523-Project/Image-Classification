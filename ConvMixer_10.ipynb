{
 "cells": [
  {
   "cell_type": "markdown",
   "id": "7ac7083c",
   "metadata": {},
   "source": [
    "# Setup"
   ]
  },
  {
   "cell_type": "code",
   "execution_count": 1,
   "id": "0766395e",
   "metadata": {},
   "outputs": [],
   "source": [
    "from tensorflow.keras import layers\n",
    "from tensorflow import keras\n",
    "\n",
    "import matplotlib.pyplot as plt\n",
    "import tensorflow_addons as tfa\n",
    "import tensorflow as tf\n",
    "import numpy as np"
   ]
  },
  {
   "cell_type": "markdown",
   "id": "d9e91012",
   "metadata": {},
   "source": [
    "## Prepare the data"
   ]
  },
  {
   "cell_type": "code",
   "execution_count": 2,
   "id": "a04e028d",
   "metadata": {},
   "outputs": [
    {
     "name": "stdout",
     "output_type": "stream",
     "text": [
      "Training data: 45000\n",
      "Validation data: 5000\n",
      "Test data: 10000\n"
     ]
    }
   ],
   "source": [
    "(x_train, y_train), (x_test, y_test) = keras.datasets.cifar10.load_data()\n",
    "val_split = 0.1\n",
    "val_indices = int(len(x_train) * val_split)\n",
    "x_val, y_val = x_train[:val_indices], y_train[:val_indices]\n",
    "x_train, y_train = x_train[val_indices:], y_train[val_indices:]\n",
    "\n",
    "print(f\"Training data: {len(x_train)}\")\n",
    "print(f\"Validation data: {len(x_val)}\")\n",
    "print(f\"Test data: {len(x_test)}\")"
   ]
  },
  {
   "cell_type": "markdown",
   "id": "668e4fd2",
   "metadata": {},
   "source": [
    "## Configure the hyperparameters"
   ]
  },
  {
   "cell_type": "code",
   "execution_count": 3,
   "id": "377a2eaf",
   "metadata": {},
   "outputs": [],
   "source": [
    "learning_rate = 0.001\n",
    "weight_decay = 0.0001\n",
    "batch_size = 128\n",
    "num_epochs = 10\n",
    "image_size = 32"
   ]
  },
  {
   "cell_type": "markdown",
   "id": "45a97fd9",
   "metadata": {},
   "source": [
    "# Prepare Dataset objects"
   ]
  },
  {
   "cell_type": "code",
   "execution_count": 4,
   "id": "d68ece37",
   "metadata": {},
   "outputs": [],
   "source": [
    "auto = tf.data.AUTOTUNE\n",
    "data_augmentation = keras.Sequential(\n",
    "    [layers.RandomCrop(image_size, image_size), layers.RandomFlip(\"horizontal\"),],\n",
    "    name=\"data_augmentation\",\n",
    ")\n",
    "\n",
    "\n",
    "def make_datasets(images, labels, is_train=False):\n",
    "    dataset = tf.data.Dataset.from_tensor_slices((images, labels))\n",
    "    if is_train:\n",
    "        dataset = dataset.shuffle(batch_size * 10)\n",
    "    dataset = dataset.batch(batch_size)\n",
    "    if is_train:\n",
    "        dataset = dataset.map(\n",
    "            lambda x, y: (data_augmentation(x), y), num_parallel_calls=auto\n",
    "        )\n",
    "    return dataset.prefetch(auto)\n",
    "\n",
    "train_dataset = make_datasets(x_train, y_train, is_train=True)\n",
    "val_dataset = make_datasets(x_val, y_val)\n",
    "test_dataset = make_datasets(x_test, y_test)"
   ]
  },
  {
   "cell_type": "markdown",
   "id": "5893e233",
   "metadata": {},
   "source": [
    "# Construct the ConvMixer Model"
   ]
  },
  {
   "cell_type": "code",
   "execution_count": 5,
   "id": "f3e50a5e",
   "metadata": {},
   "outputs": [],
   "source": [
    "# model parameters\n",
    "patch_size = 2\n",
    "class_num = 10\n",
    "depth = 8\n",
    "filter_num = 256\n",
    "kernel_size = 10"
   ]
  },
  {
   "cell_type": "code",
   "execution_count": 6,
   "id": "1be55a9b",
   "metadata": {},
   "outputs": [],
   "source": [
    "def convMixer_Model():\n",
    "    # Rescale the input image\n",
    "    inputs = keras.Input((image_size, image_size, 3))\n",
    "    rescaled = layers.Rescaling(scale=1.0 / 255)(inputs)\n",
    "    \n",
    "    # Patch Embedding\n",
    "    patch_embed = layers.Conv2D(filter_num, kernel_size=patch_size, strides=patch_size)(rescaled)\n",
    "    # Gelu\n",
    "    gelu_out = layers.Activation(\"gelu\")(patch_embed)\n",
    "    # BatchNorm\n",
    "    bn_out = layers.BatchNormalization()(gelu_out)\n",
    "\n",
    "    # ConvMixer blocks with depth iterations\n",
    "    for _ in range(depth):\n",
    "        # Depthwise convolution\n",
    "        temp = bn_out\n",
    "        dw_conv = layers.DepthwiseConv2D(kernel_size=kernel_size, padding=\"same\")(bn_out)\n",
    "        # Gelu\n",
    "        gelu_out = layers.Activation(\"gelu\")(dw_conv)\n",
    "        # BatchNorm\n",
    "        bn_out = layers.BatchNormalization()(gelu_out)\n",
    "        # layer addition\n",
    "        layer_add = layers.Add()([bn_out, temp])\n",
    "\n",
    "        # Pointwise convolution\n",
    "        pw_conv = layers.Conv2D(filter_num, kernel_size=1)(layer_add)\n",
    "        # Gelu\n",
    "        gelu_out = layers.Activation(\"gelu\")(pw_conv)\n",
    "        # BatchNorm\n",
    "        bn_out = layers.BatchNormalization()(gelu_out)\n",
    "\n",
    "    # Classification\n",
    "    globalAvgPool_out = layers.GlobalAvgPool2D()(bn_out)\n",
    "    do = tf.nn.dropout(globalAvgPool_out, 0.3)\n",
    "    outputs = layers.Dense(class_num, activation=\"softmax\")(do)\n",
    "\n",
    "    return keras.Model(inputs, outputs)"
   ]
  },
  {
   "cell_type": "markdown",
   "id": "0954a183",
   "metadata": {},
   "source": [
    "# Compile, train, and evaluate the mode"
   ]
  },
  {
   "cell_type": "code",
   "execution_count": 7,
   "id": "29e3df4e",
   "metadata": {},
   "outputs": [],
   "source": [
    "def run_experiment(model):\n",
    "    optimizer = tfa.optimizers.AdamW(\n",
    "        learning_rate=learning_rate, weight_decay=weight_decay\n",
    "    )\n",
    "\n",
    "    model.compile(\n",
    "        optimizer=optimizer,\n",
    "        loss=\"sparse_categorical_crossentropy\",\n",
    "        metrics=[\"accuracy\"],\n",
    "    )\n",
    "\n",
    "    checkpoint_filepath = \"/tmp/checkpoint\"\n",
    "    checkpoint_callback = keras.callbacks.ModelCheckpoint(\n",
    "        checkpoint_filepath,\n",
    "        monitor=\"val_accuracy\",\n",
    "        save_best_only=True,\n",
    "        save_weights_only=True,\n",
    "    )\n",
    "\n",
    "    history = model.fit(\n",
    "        train_dataset,\n",
    "        validation_data=val_dataset,\n",
    "        epochs=num_epochs,\n",
    "        callbacks=[checkpoint_callback],\n",
    "    )\n",
    "\n",
    "    model.load_weights(checkpoint_filepath)\n",
    "    _, accuracy = model.evaluate(test_dataset)\n",
    "    print(f\"Test accuracy: {round(accuracy * 100, 2)}%\")\n",
    "\n",
    "    return history, model"
   ]
  },
  {
   "cell_type": "code",
   "execution_count": 8,
   "id": "2248d1d0",
   "metadata": {},
   "outputs": [
    {
     "name": "stdout",
     "output_type": "stream",
     "text": [
      "Epoch 1/10\n",
      "352/352 [==============================] - 66s 176ms/step - loss: 1.4645 - accuracy: 0.4726 - val_loss: 3.0312 - val_accuracy: 0.1386\n",
      "Epoch 2/10\n",
      "352/352 [==============================] - 62s 175ms/step - loss: 0.9890 - accuracy: 0.6491 - val_loss: 0.9765 - val_accuracy: 0.6566\n",
      "Epoch 3/10\n",
      "352/352 [==============================] - 61s 175ms/step - loss: 0.7822 - accuracy: 0.7237 - val_loss: 0.7539 - val_accuracy: 0.7410\n",
      "Epoch 4/10\n",
      "352/352 [==============================] - 61s 174ms/step - loss: 0.6480 - accuracy: 0.7733 - val_loss: 0.6819 - val_accuracy: 0.7614\n",
      "Epoch 5/10\n",
      "352/352 [==============================] - 61s 175ms/step - loss: 0.5557 - accuracy: 0.8073 - val_loss: 0.6586 - val_accuracy: 0.7700\n",
      "Epoch 6/10\n",
      "352/352 [==============================] - 62s 175ms/step - loss: 0.4775 - accuracy: 0.8336 - val_loss: 0.5777 - val_accuracy: 0.7996\n",
      "Epoch 7/10\n",
      "352/352 [==============================] - 61s 175ms/step - loss: 0.4165 - accuracy: 0.8537 - val_loss: 0.6209 - val_accuracy: 0.7904\n",
      "Epoch 8/10\n",
      "352/352 [==============================] - 62s 175ms/step - loss: 0.3628 - accuracy: 0.8733 - val_loss: 0.6025 - val_accuracy: 0.7956\n",
      "Epoch 9/10\n",
      "352/352 [==============================] - 61s 174ms/step - loss: 0.3269 - accuracy: 0.8881 - val_loss: 0.6752 - val_accuracy: 0.7868\n",
      "Epoch 10/10\n",
      "352/352 [==============================] - 61s 174ms/step - loss: 0.2886 - accuracy: 0.8991 - val_loss: 0.5834 - val_accuracy: 0.8094\n",
      "79/79 [==============================] - 2s 21ms/step - loss: 0.6399 - accuracy: 0.7990\n",
      "Test accuracy: 79.9%\n"
     ]
    }
   ],
   "source": [
    "cm_model = convMixer_Model()\n",
    "history, conv_mixer_model = run_experiment(cm_model)"
   ]
  },
  {
   "cell_type": "code",
   "execution_count": null,
   "id": "b06702e3",
   "metadata": {},
   "outputs": [],
   "source": []
  }
 ],
 "metadata": {
  "kernelspec": {
   "display_name": "Python 3",
   "language": "python",
   "name": "python3"
  },
  "language_info": {
   "codemirror_mode": {
    "name": "ipython",
    "version": 3
   },
   "file_extension": ".py",
   "mimetype": "text/x-python",
   "name": "python",
   "nbconvert_exporter": "python",
   "pygments_lexer": "ipython3",
   "version": "3.8.10"
  }
 },
 "nbformat": 4,
 "nbformat_minor": 5
}
